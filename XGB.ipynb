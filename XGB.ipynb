{
 "cells": [
  {
   "cell_type": "code",
   "execution_count": 4,
   "metadata": {
    "collapsed": false
   },
   "outputs": [
    {
     "name": "stdout",
     "output_type": "stream",
     "text": [
      "Index(['sample_id', 'Lead_(ppb)', 'parcel_id', 'Date_Submitted', 'google_add',\n",
      "       'Latitude', 'Longitude', 'Owner_Type', 'Land_Value',\n",
      "       'Land_Improvements_Value', 'Residential_Building_Value',\n",
      "       'Residential_Building_Style', 'Commercial_Building_Value',\n",
      "       'Building_Storeys', 'Parcel_Acres', 'Rental', 'Use_Type', 'Prop_Class',\n",
      "       'Year_Built', 'USPS_Vacancy', 'Zoning', 'Future_Landuse', 'DRAFT_Zone',\n",
      "       'Housing_Condition_2012', 'Housing_Condition_2014',\n",
      "       'Commercial_Condition_2013', 'Hydrant_Type', 'Ward', 'PRECINCT',\n",
      "       'CENTRACT', 'CENBLOCK', 'SL_Type', 'SL_Type2', 'SL_Lead', 'Homestead',\n",
      "       'Homestead_Percent', 'HomeSEV', 'lead_binary', 'parcel_id_numeric',\n",
      "       'parcel1', 'parcel2', 'Zipcode', 'Zoning_Cleaned', 'Land_Value_Norm',\n",
      "       'Land_Improvements_Value_Norm', 'Residential_Building_Value_Norm',\n",
      "       'Commercial_Building_Value_Norm', 'Year_Built_Cleaned', 'HomeSEV_Norm'],\n",
      "      dtype='object')\n"
     ]
    }
   ],
   "source": [
    "import pandas as pd\n",
    "import xgboost as xgb\n",
    "from sklearn.preprocessing import LabelEncoder\n",
    "from sklearn.preprocessing import OneHotEncoder\n",
    "import numpy as np\n",
    "\n",
    "# Load the data\n",
    "train_df = pd.read_csv('flint_training.csv', header=0)\n",
    "test_df = pd.read_csv('flint_test.csv', header=0)\n",
    "\n",
    "# We'll impute missing values using the median for numeric columns and the most\n",
    "# common value for string columns.\n",
    "from sklearn.base import TransformerMixin\n",
    "class DataFrameImputer(TransformerMixin):\n",
    "    def fit(self, X, y=None):\n",
    "        self.fill = pd.Series([X[c].value_counts().index[0]\n",
    "            if X[c].dtype == np.dtype('O') else X[c].median() for c in X],\n",
    "            index=X.columns)\n",
    "        return self\n",
    "    def transform(self, X, y=None):\n",
    "        return X.fillna(self.fill)\n",
    "\n",
    "print(train_df.columns)"
   ]
  },
  {
   "cell_type": "code",
   "execution_count": 18,
   "metadata": {
    "collapsed": false
   },
   "outputs": [
    {
     "name": "stdout",
     "output_type": "stream",
     "text": [
      "(10468, 901)\n",
      "(10468, 11)\n",
      "(7327, 26)\n",
      "(3141, 26)\n",
      "(7327,)\n"
     ]
    }
   ],
   "source": [
    "feature_columns_to_use = [\n",
    "       'Latitude', 'Longitude', 'Owner_Type',  \n",
    "       'Residential_Building_Style', \n",
    "       'Building_Storeys', 'Parcel_Acres', 'Rental', 'Use_Type', 'Prop_Class',\n",
    "        'USPS_Vacancy',  'Future_Landuse', 'DRAFT_Zone',\n",
    "       'Housing_Condition_2012', 'Housing_Condition_2014',\n",
    "       'Commercial_Condition_2013', 'Hydrant_Type', 'Ward', 'PRECINCT',\n",
    "       'CENTRACT', 'CENBLOCK', 'SL_Type', 'SL_Type2', 'SL_Lead', 'Homestead',\n",
    "       'Homestead_Percent',  'parcel_id_numeric',\n",
    "       'parcel1', 'parcel2', 'Zipcode', 'Zoning_Cleaned', 'Land_Value_Norm',\n",
    "       'Land_Improvements_Value_Norm', 'Residential_Building_Value_Norm',\n",
    "       'Commercial_Building_Value_Norm', 'Year_Built_Cleaned', 'HomeSEV_Norm'\n",
    "       ]\n",
    "continuous_columns = [\n",
    "             'Latitude', 'Longitude','parcel_id_numeric','Land_Value_Norm',\n",
    "       'Land_Improvements_Value_Norm', 'Residential_Building_Value_Norm',\n",
    "       'Commercial_Building_Value_Norm', 'Year_Built_Cleaned', 'HomeSEV_Norm',\n",
    "       'parcel1', 'parcel2',\n",
    "       ]\n",
    "nonnumeric_columns = [  \n",
    "         'Owner_Type',  \n",
    "       'Residential_Building_Style', \n",
    "       'Building_Storeys', 'Parcel_Acres', 'Rental', 'Use_Type', 'Prop_Class',\n",
    "        'USPS_Vacancy',  'Future_Landuse', 'DRAFT_Zone',\n",
    "       'Housing_Condition_2012', 'Housing_Condition_2014',\n",
    "       'Commercial_Condition_2013', 'Hydrant_Type', 'Ward', 'PRECINCT',\n",
    "       'CENTRACT', 'CENBLOCK', 'SL_Type', 'SL_Type2', 'SL_Lead', 'Homestead',\n",
    "       'Homestead_Percent',   'Zipcode', 'Zoning_Cleaned' ]\n",
    "\n",
    "# nonnumeric_columns = ['Owner_Type']\n",
    "# Join the features from train and test together before imputing missing values,\n",
    "# in case their distribution is slightly different\n",
    "big_X = train_df[feature_columns_to_use].append(test_df[feature_columns_to_use])\n",
    "big_X_imputed = DataFrameImputer().fit_transform(big_X)\n",
    "# big_X_imputed.to_csv(\"b.csv\")\n",
    "\n",
    "# XGBoost doesn't (yet) handle categorical features automatically, so we need to change\n",
    "# them to columns of integer values.\n",
    "# See http://scikit-learn.org/stable/modules/preprocessing.html#preprocessing for more\n",
    "# details and options\n",
    "le = LabelEncoder()\n",
    "onehot_encoder = OneHotEncoder()\n",
    "# for feature in nonnumeric_columns:\n",
    "#     big_X_imputed[feature]  = le.fit_transform(big_X_imputed[feature])\n",
    "df1 = big_X_imputed[nonnumeric_columns].apply(le.fit_transform)\n",
    "df1.to_csv(\"1.csv\")\n",
    "df2 = onehot_encoder.fit_transform(df1).toarray()\n",
    "df3 = pd.DataFrame(df2.reshape( len(df2),-1))\n",
    "# df3.to_csv(\"3.csv\")\n",
    "print(df3.shape)\n",
    "df4= big_X_imputed[continuous_columns]\n",
    "print(df4.shape)\n",
    "# df4.to_csv(\"4.csv\")\n",
    "big_X_imputed_new = pd.read_csv('1.csv', header=0)\n",
    "# big_X_imputed_new = pd.concat([df3, df4], axis=1)\n",
    "\n",
    "# print(big_X_imputed_new)\n",
    "big_X_imputed_new = big_X_imputed_new.iloc[0:10468]\n",
    "# print(big_X_imputed_new.shape)\n",
    "\n",
    "# Prepare the inputs for the model\n",
    "train_X = big_X_imputed_new[0:train_df.shape[0]].as_matrix()\n",
    "print(train_X.shape)\n",
    "test_X = big_X_imputed_new[train_df.shape[0]::].as_matrix()\n",
    "print(test_X.shape)\n",
    "train_y = train_df['lead_binary']\n",
    "test_y = test_df['lead_binary']\n",
    "print(train_y.shape)\n"
   ]
  },
  {
   "cell_type": "code",
   "execution_count": 24,
   "metadata": {
    "collapsed": false
   },
   "outputs": [
    {
     "data": {
      "image/png": "[encoded data removed]",
      "text/plain": [
       "<matplotlib.figure.Figure at 0x2583c09b6a0>"
      ]
     },
     "metadata": {},
     "output_type": "display_data"
    },
    {
     "name": "stdout",
     "output_type": "stream",
     "text": [
      "Accuracy of XGB classifier on test set: 0.917860553964\n",
      "[[2882    0]\n",
      " [ 258    1]]\n",
      "Area Under the precision-recall curve: 0.543000\n"
     ]
    }
   ],
   "source": [
    "# You can experiment with many other options here, using the same .fit() and .predict()\n",
    "# methods; see http://scikit-learn.org\n",
    "# This example uses the current build of XGBoost, from https://github.com/dmlc/xgboost\n",
    "from sklearn.metrics import confusion_matrix\n",
    "from sklearn.metrics import average_precision_score\n",
    "from sklearn.metrics import log_loss\n",
    "from matplotlib import pyplot\n",
    "\n",
    "gbm = xgb.XGBClassifier(max_depth=3, n_estimators=300, learning_rate=0.05).fit(train_X, train_y)\n",
    "# print(gbm.feature_importances_)\n",
    "pyplot.bar(range(len(gbm.feature_importances_)), gbm.feature_importances_)\n",
    "pyplot.show()\n",
    "\n",
    "predictions = gbm.predict(test_X)\n",
    "print ('Accuracy of XGB classifier on test set:', gbm.score(test_X,test_y))\n",
    "\n",
    "\n",
    "print(confusion_matrix(test_df['lead_binary'], predictions))\n",
    "score = average_precision_score(test_df['lead_binary'].values, predictions)\n",
    "log_loss = log_loss(test_df['lead_binary'].values, predictions)\n",
    "print('Area Under the precision-recall curve: {:.6f}'.format(score))\n",
    "\n"
   ]
  },
  {
   "cell_type": "code",
   "execution_count": 22,
   "metadata": {
    "collapsed": false
   },
   "outputs": [
    {
     "name": "stdout",
     "output_type": "stream",
     "text": [
      "[[2882    0]\n",
      " [ 259    0]]\n",
      "Accuracy of logistic regression classifier on test set: 0.917542184018\n",
      "area under the precision-recall curve: 0.541229\n",
      "[[2880    2]\n",
      " [ 259    0]]\n",
      "Accuracy of Random Forest classifier on test set: 0.916905444126\n",
      "area under the precision-recall curve: 0.541229\n",
      "[[2878    4]\n",
      " [ 259    0]]\n",
      "Accuracy of Gradient Boosting classifier on test set: 0.916268704234\n",
      "area under the precision-recall curve: 0.541229\n"
     ]
    }
   ],
   "source": [
    "# Logistic Regression\n",
    "from sklearn import preprocessing\n",
    "from sklearn.linear_model import LogisticRegression\n",
    "clf = LogisticRegression().fit(train_X, train_y)\n",
    "y_pred = clf.predict(test_X)\n",
    "from sklearn.metrics import confusion_matrix\n",
    "confusion_matrix = confusion_matrix(test_y, y_pred)\n",
    "print(confusion_matrix)\n",
    "score = average_precision_score(test_df['lead_binary'].values, y_pred)\n",
    "print ('Accuracy of logistic regression classifier on test set:', clf.score(test_X,test_y))\n",
    "print('area under the precision-recall curve: {:.6f}'.format(score))\n",
    "\n",
    "# Random Forest\n",
    "from sklearn.ensemble import RandomForestClassifier\n",
    "clf1 = RandomForestClassifier(n_estimators=10).fit(train_X, train_y)\n",
    "# print('Feature importance: ',clf1.feature_importances_)\n",
    "y_pred1 = clf1.predict(test_X)\n",
    "from sklearn.metrics import confusion_matrix\n",
    "confusion_matrix1 = confusion_matrix(test_y, y_pred1)\n",
    "print(confusion_matrix1)\n",
    "score1 = average_precision_score(test_df['lead_binary'].values, y_pred)\n",
    "\n",
    "print ('Accuracy of Random Forest classifier on test set:', clf1.score(test_X,test_y))\n",
    "print('area under the precision-recall curve: {:.6f}'.format(score1))\n",
    "\n",
    "# Gradient Boosting Classifier\n",
    "from sklearn.datasets import make_hastie_10_2\n",
    "from sklearn.ensemble import GradientBoostingClassifier\n",
    "clf2 = GradientBoostingClassifier(n_estimators=100, learning_rate=1.0,\n",
    "   max_depth=1, random_state=0).fit(train_X, train_y)\n",
    "# print('Feature importance: ',clf2.feature_importances_)\n",
    "y_pred2 = clf2.predict(test_X)\n",
    "from sklearn.metrics import confusion_matrix\n",
    "confusion_matrix2 = confusion_matrix(test_y, y_pred2)\n",
    "print(confusion_matrix2)\n",
    "score2 = average_precision_score(test_df['lead_binary'].values, y_pred)\n",
    "\n",
    "print ('Accuracy of Gradient Boosting classifier on test set:', clf2.score(test_X,test_y))\n",
    "print('area under the precision-recall curve: {:.6f}'.format(score2))\n"
   ]
  }
 ],
 "metadata": {
  "anaconda-cloud": {},
  "kernelspec": {
   "display_name": "Python [default]",
   "language": "python",
   "name": "python3"
  },
  "language_info": {
   "codemirror_mode": {
    "name": "ipython",
    "version": 3
   },
   "file_extension": ".py",
   "mimetype": "text/x-python",
   "name": "python",
   "nbconvert_exporter": "python",
   "pygments_lexer": "ipython3",
   "version": "3.5.2"
  }
 },
 "nbformat": 4,
 "nbformat_minor": 1
}
